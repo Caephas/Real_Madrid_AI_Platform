{
 "cells": [
  {
   "cell_type": "code",
   "id": "initial_id",
   "metadata": {
    "collapsed": true
   },
   "source": [
    "import requests\n",
    "from bs4 import BeautifulSoup\n",
    "import pandas as pd\n",
    "import time"
   ],
   "outputs": [],
   "execution_count": null
  },
  {
   "metadata": {},
   "cell_type": "code",
   "source": [
    "# La Liga URL\n",
    "standings_url = \"https://fbref.com/en/comps/12/La-Liga-Stats\"\n"
   ],
   "id": "93f0b5f39dfcf6b5",
   "outputs": [],
   "execution_count": null
  },
  {
   "metadata": {},
   "cell_type": "code",
   "source": [
    "# Define the range for the last 7 seasons\n",
    "years = list(range(2025, 2018, -1))\n",
    "all_matches = []\n"
   ],
   "id": "ddb90d1e40507c65",
   "outputs": [],
   "execution_count": null
  },
  {
   "metadata": {},
   "cell_type": "code",
   "source": [
    "# Scraping data for the last 10 seasons\n",
    "for year in years:\n",
    "    print(f\"Scraping season: {year}\")\n",
    "    data = requests.get(standings_url)\n",
    "    soup = BeautifulSoup(data.text, 'html.parser')\n",
    "    standings_table = soup.select('table.stats_table')[0]\n",
    "\n",
    "    links = [l.get(\"href\") for l in standings_table.find_all('a')]\n",
    "    links = [l for l in links if '/squads/' in l]\n",
    "    team_urls = [f\"https://fbref.com{l}\" for l in links]\n",
    "\n",
    "    # Navigate to the previous season for the next iteration\n",
    "    previous_season = soup.select(\"a.prev\")[0].get(\"href\")\n",
    "    standings_url = f\"https://fbref.com{previous_season}\"\n",
    "\n",
    "    for team_url in team_urls:\n",
    "        team_name = team_url.split(\"/\")[-1].replace(\"-Stats\", \"\").replace(\"-\", \" \")\n",
    "        print(f\"Scraping team: {team_name} for season {year}\")\n",
    "\n",
    "        # Fetch team matches\n",
    "        data = requests.get(team_url)\n",
    "        matches = pd.read_html(data.text, match=\"Scores & Fixtures\")[0]\n",
    "        soup = BeautifulSoup(data.text, 'html.parser')\n",
    "\n",
    "        # Find shooting stats\n",
    "        links = [l.get(\"href\") for l in soup.find_all('a')]\n",
    "        links = [l for l in links if l and 'all_comps/shooting/' in l]\n",
    "        if not links:\n",
    "            print(f\"Skipping shooting stats for {team_name}, season {year}\")\n",
    "            continue\n",
    "        shooting_url = f\"https://fbref.com{links[0]}\"\n",
    "        data = requests.get(shooting_url)\n",
    "        shooting = pd.read_html(data.text, match=\"Shooting\")[0]\n",
    "        shooting.columns = shooting.columns.droplevel()  # Flatten multi-level headers\n",
    "\n",
    "        # Merge matches and shooting stats\n",
    "        try:\n",
    "            team_data = matches.merge(shooting[[\"Date\", \"Sh\", \"SoT\", \"Dist\", \"FK\", \"PK\", \"PKatt\"]], on=\"Date\")\n",
    "        except ValueError:\n",
    "            print(f\"Data mismatch for {team_name}, season {year}\")\n",
    "            continue\n",
    "\n",
    "        # Filter for La Liga matches only\n",
    "        team_data = team_data[team_data[\"Comp\"] == \"La Liga\"]\n",
    "\n",
    "        # Add season and team info\n",
    "        team_data[\"Season\"] = year\n",
    "        team_data[\"Team\"] = team_name\n",
    "        all_matches.append(team_data)\n",
    "\n",
    "        # Pause to avoid overwhelming the server\n",
    "        time.sleep(5)\n"
   ],
   "id": "24cac7f5863da72a",
   "outputs": [
    {
     "name": "stderr",
     "output_type": "stream",
     "text": [
      "/var/folders/rc/j294rj094lb9j6zz6fcghj7m0000gn/T/ipykernel_92408/2783331479.py:22: FutureWarning: Passing literal html to 'read_html' is deprecated and will be removed in a future version. To read from a literal string, wrap it in a 'StringIO' object.\n",
      "  matches = pd.read_html(data.text, match=\"Scores & Fixtures\")[0]\n",
      "/var/folders/rc/j294rj094lb9j6zz6fcghj7m0000gn/T/ipykernel_92408/2783331479.py:33: FutureWarning: Passing literal html to 'read_html' is deprecated and will be removed in a future version. To read from a literal string, wrap it in a 'StringIO' object.\n",
      "  shooting = pd.read_html(data.text, match=\"Shooting\")[0]\n"
     ]
    },
    {
     "name": "stdout",
     "output_type": "stream",
     "text": [
      "Scraping team: Sevilla for season 2019\n"
     ]
    },
    {
     "name": "stderr",
     "output_type": "stream",
     "text": [
      "/var/folders/rc/j294rj094lb9j6zz6fcghj7m0000gn/T/ipykernel_92408/2783331479.py:22: FutureWarning: Passing literal html to 'read_html' is deprecated and will be removed in a future version. To read from a literal string, wrap it in a 'StringIO' object.\n",
      "  matches = pd.read_html(data.text, match=\"Scores & Fixtures\")[0]\n",
      "/var/folders/rc/j294rj094lb9j6zz6fcghj7m0000gn/T/ipykernel_92408/2783331479.py:33: FutureWarning: Passing literal html to 'read_html' is deprecated and will be removed in a future version. To read from a literal string, wrap it in a 'StringIO' object.\n",
      "  shooting = pd.read_html(data.text, match=\"Shooting\")[0]\n"
     ]
    },
    {
     "name": "stdout",
     "output_type": "stream",
     "text": [
      "Scraping team: Espanyol for season 2019\n"
     ]
    },
    {
     "name": "stderr",
     "output_type": "stream",
     "text": [
      "/var/folders/rc/j294rj094lb9j6zz6fcghj7m0000gn/T/ipykernel_92408/2783331479.py:22: FutureWarning: Passing literal html to 'read_html' is deprecated and will be removed in a future version. To read from a literal string, wrap it in a 'StringIO' object.\n",
      "  matches = pd.read_html(data.text, match=\"Scores & Fixtures\")[0]\n",
      "/var/folders/rc/j294rj094lb9j6zz6fcghj7m0000gn/T/ipykernel_92408/2783331479.py:33: FutureWarning: Passing literal html to 'read_html' is deprecated and will be removed in a future version. To read from a literal string, wrap it in a 'StringIO' object.\n",
      "  shooting = pd.read_html(data.text, match=\"Shooting\")[0]\n"
     ]
    },
    {
     "name": "stdout",
     "output_type": "stream",
     "text": [
      "Scraping team: Athletic Club for season 2019\n"
     ]
    },
    {
     "name": "stderr",
     "output_type": "stream",
     "text": [
      "/var/folders/rc/j294rj094lb9j6zz6fcghj7m0000gn/T/ipykernel_92408/2783331479.py:22: FutureWarning: Passing literal html to 'read_html' is deprecated and will be removed in a future version. To read from a literal string, wrap it in a 'StringIO' object.\n",
      "  matches = pd.read_html(data.text, match=\"Scores & Fixtures\")[0]\n",
      "/var/folders/rc/j294rj094lb9j6zz6fcghj7m0000gn/T/ipykernel_92408/2783331479.py:33: FutureWarning: Passing literal html to 'read_html' is deprecated and will be removed in a future version. To read from a literal string, wrap it in a 'StringIO' object.\n",
      "  shooting = pd.read_html(data.text, match=\"Shooting\")[0]\n"
     ]
    },
    {
     "name": "stdout",
     "output_type": "stream",
     "text": [
      "Scraping team: Real Sociedad for season 2019\n"
     ]
    },
    {
     "name": "stderr",
     "output_type": "stream",
     "text": [
      "/var/folders/rc/j294rj094lb9j6zz6fcghj7m0000gn/T/ipykernel_92408/2783331479.py:22: FutureWarning: Passing literal html to 'read_html' is deprecated and will be removed in a future version. To read from a literal string, wrap it in a 'StringIO' object.\n",
      "  matches = pd.read_html(data.text, match=\"Scores & Fixtures\")[0]\n",
      "/var/folders/rc/j294rj094lb9j6zz6fcghj7m0000gn/T/ipykernel_92408/2783331479.py:33: FutureWarning: Passing literal html to 'read_html' is deprecated and will be removed in a future version. To read from a literal string, wrap it in a 'StringIO' object.\n",
      "  shooting = pd.read_html(data.text, match=\"Shooting\")[0]\n"
     ]
    },
    {
     "name": "stdout",
     "output_type": "stream",
     "text": [
      "Scraping team: Real Betis for season 2019\n"
     ]
    },
    {
     "name": "stderr",
     "output_type": "stream",
     "text": [
      "/var/folders/rc/j294rj094lb9j6zz6fcghj7m0000gn/T/ipykernel_92408/2783331479.py:22: FutureWarning: Passing literal html to 'read_html' is deprecated and will be removed in a future version. To read from a literal string, wrap it in a 'StringIO' object.\n",
      "  matches = pd.read_html(data.text, match=\"Scores & Fixtures\")[0]\n",
      "/var/folders/rc/j294rj094lb9j6zz6fcghj7m0000gn/T/ipykernel_92408/2783331479.py:33: FutureWarning: Passing literal html to 'read_html' is deprecated and will be removed in a future version. To read from a literal string, wrap it in a 'StringIO' object.\n",
      "  shooting = pd.read_html(data.text, match=\"Shooting\")[0]\n"
     ]
    },
    {
     "name": "stdout",
     "output_type": "stream",
     "text": [
      "Scraping team: Alaves for season 2019\n"
     ]
    },
    {
     "name": "stderr",
     "output_type": "stream",
     "text": [
      "/var/folders/rc/j294rj094lb9j6zz6fcghj7m0000gn/T/ipykernel_92408/2783331479.py:22: FutureWarning: Passing literal html to 'read_html' is deprecated and will be removed in a future version. To read from a literal string, wrap it in a 'StringIO' object.\n",
      "  matches = pd.read_html(data.text, match=\"Scores & Fixtures\")[0]\n",
      "/var/folders/rc/j294rj094lb9j6zz6fcghj7m0000gn/T/ipykernel_92408/2783331479.py:33: FutureWarning: Passing literal html to 'read_html' is deprecated and will be removed in a future version. To read from a literal string, wrap it in a 'StringIO' object.\n",
      "  shooting = pd.read_html(data.text, match=\"Shooting\")[0]\n"
     ]
    },
    {
     "name": "stdout",
     "output_type": "stream",
     "text": [
      "Scraping team: Eibar for season 2019\n"
     ]
    },
    {
     "name": "stderr",
     "output_type": "stream",
     "text": [
      "/var/folders/rc/j294rj094lb9j6zz6fcghj7m0000gn/T/ipykernel_92408/2783331479.py:22: FutureWarning: Passing literal html to 'read_html' is deprecated and will be removed in a future version. To read from a literal string, wrap it in a 'StringIO' object.\n",
      "  matches = pd.read_html(data.text, match=\"Scores & Fixtures\")[0]\n",
      "/var/folders/rc/j294rj094lb9j6zz6fcghj7m0000gn/T/ipykernel_92408/2783331479.py:33: FutureWarning: Passing literal html to 'read_html' is deprecated and will be removed in a future version. To read from a literal string, wrap it in a 'StringIO' object.\n",
      "  shooting = pd.read_html(data.text, match=\"Shooting\")[0]\n"
     ]
    },
    {
     "name": "stdout",
     "output_type": "stream",
     "text": [
      "Scraping team: Leganes for season 2019\n"
     ]
    },
    {
     "name": "stderr",
     "output_type": "stream",
     "text": [
      "/var/folders/rc/j294rj094lb9j6zz6fcghj7m0000gn/T/ipykernel_92408/2783331479.py:22: FutureWarning: Passing literal html to 'read_html' is deprecated and will be removed in a future version. To read from a literal string, wrap it in a 'StringIO' object.\n",
      "  matches = pd.read_html(data.text, match=\"Scores & Fixtures\")[0]\n",
      "/var/folders/rc/j294rj094lb9j6zz6fcghj7m0000gn/T/ipykernel_92408/2783331479.py:33: FutureWarning: Passing literal html to 'read_html' is deprecated and will be removed in a future version. To read from a literal string, wrap it in a 'StringIO' object.\n",
      "  shooting = pd.read_html(data.text, match=\"Shooting\")[0]\n"
     ]
    },
    {
     "name": "stdout",
     "output_type": "stream",
     "text": [
      "Scraping team: Villarreal for season 2019\n"
     ]
    },
    {
     "name": "stderr",
     "output_type": "stream",
     "text": [
      "/var/folders/rc/j294rj094lb9j6zz6fcghj7m0000gn/T/ipykernel_92408/2783331479.py:22: FutureWarning: Passing literal html to 'read_html' is deprecated and will be removed in a future version. To read from a literal string, wrap it in a 'StringIO' object.\n",
      "  matches = pd.read_html(data.text, match=\"Scores & Fixtures\")[0]\n",
      "/var/folders/rc/j294rj094lb9j6zz6fcghj7m0000gn/T/ipykernel_92408/2783331479.py:33: FutureWarning: Passing literal html to 'read_html' is deprecated and will be removed in a future version. To read from a literal string, wrap it in a 'StringIO' object.\n",
      "  shooting = pd.read_html(data.text, match=\"Shooting\")[0]\n"
     ]
    },
    {
     "name": "stdout",
     "output_type": "stream",
     "text": [
      "Scraping team: Levante for season 2019\n"
     ]
    },
    {
     "name": "stderr",
     "output_type": "stream",
     "text": [
      "/var/folders/rc/j294rj094lb9j6zz6fcghj7m0000gn/T/ipykernel_92408/2783331479.py:22: FutureWarning: Passing literal html to 'read_html' is deprecated and will be removed in a future version. To read from a literal string, wrap it in a 'StringIO' object.\n",
      "  matches = pd.read_html(data.text, match=\"Scores & Fixtures\")[0]\n",
      "/var/folders/rc/j294rj094lb9j6zz6fcghj7m0000gn/T/ipykernel_92408/2783331479.py:33: FutureWarning: Passing literal html to 'read_html' is deprecated and will be removed in a future version. To read from a literal string, wrap it in a 'StringIO' object.\n",
      "  shooting = pd.read_html(data.text, match=\"Shooting\")[0]\n"
     ]
    },
    {
     "name": "stdout",
     "output_type": "stream",
     "text": [
      "Scraping team: Valladolid for season 2019\n"
     ]
    },
    {
     "name": "stderr",
     "output_type": "stream",
     "text": [
      "/var/folders/rc/j294rj094lb9j6zz6fcghj7m0000gn/T/ipykernel_92408/2783331479.py:22: FutureWarning: Passing literal html to 'read_html' is deprecated and will be removed in a future version. To read from a literal string, wrap it in a 'StringIO' object.\n",
      "  matches = pd.read_html(data.text, match=\"Scores & Fixtures\")[0]\n",
      "/var/folders/rc/j294rj094lb9j6zz6fcghj7m0000gn/T/ipykernel_92408/2783331479.py:33: FutureWarning: Passing literal html to 'read_html' is deprecated and will be removed in a future version. To read from a literal string, wrap it in a 'StringIO' object.\n",
      "  shooting = pd.read_html(data.text, match=\"Shooting\")[0]\n"
     ]
    },
    {
     "name": "stdout",
     "output_type": "stream",
     "text": [
      "Scraping team: Celta Vigo for season 2019\n"
     ]
    },
    {
     "name": "stderr",
     "output_type": "stream",
     "text": [
      "/var/folders/rc/j294rj094lb9j6zz6fcghj7m0000gn/T/ipykernel_92408/2783331479.py:22: FutureWarning: Passing literal html to 'read_html' is deprecated and will be removed in a future version. To read from a literal string, wrap it in a 'StringIO' object.\n",
      "  matches = pd.read_html(data.text, match=\"Scores & Fixtures\")[0]\n",
      "/var/folders/rc/j294rj094lb9j6zz6fcghj7m0000gn/T/ipykernel_92408/2783331479.py:33: FutureWarning: Passing literal html to 'read_html' is deprecated and will be removed in a future version. To read from a literal string, wrap it in a 'StringIO' object.\n",
      "  shooting = pd.read_html(data.text, match=\"Shooting\")[0]\n"
     ]
    },
    {
     "name": "stdout",
     "output_type": "stream",
     "text": [
      "Scraping team: Girona for season 2019\n"
     ]
    },
    {
     "name": "stderr",
     "output_type": "stream",
     "text": [
      "/var/folders/rc/j294rj094lb9j6zz6fcghj7m0000gn/T/ipykernel_92408/2783331479.py:22: FutureWarning: Passing literal html to 'read_html' is deprecated and will be removed in a future version. To read from a literal string, wrap it in a 'StringIO' object.\n",
      "  matches = pd.read_html(data.text, match=\"Scores & Fixtures\")[0]\n",
      "/var/folders/rc/j294rj094lb9j6zz6fcghj7m0000gn/T/ipykernel_92408/2783331479.py:33: FutureWarning: Passing literal html to 'read_html' is deprecated and will be removed in a future version. To read from a literal string, wrap it in a 'StringIO' object.\n",
      "  shooting = pd.read_html(data.text, match=\"Shooting\")[0]\n"
     ]
    },
    {
     "name": "stdout",
     "output_type": "stream",
     "text": [
      "Scraping team: Huesca for season 2019\n"
     ]
    },
    {
     "name": "stderr",
     "output_type": "stream",
     "text": [
      "/var/folders/rc/j294rj094lb9j6zz6fcghj7m0000gn/T/ipykernel_92408/2783331479.py:22: FutureWarning: Passing literal html to 'read_html' is deprecated and will be removed in a future version. To read from a literal string, wrap it in a 'StringIO' object.\n",
      "  matches = pd.read_html(data.text, match=\"Scores & Fixtures\")[0]\n",
      "/var/folders/rc/j294rj094lb9j6zz6fcghj7m0000gn/T/ipykernel_92408/2783331479.py:33: FutureWarning: Passing literal html to 'read_html' is deprecated and will be removed in a future version. To read from a literal string, wrap it in a 'StringIO' object.\n",
      "  shooting = pd.read_html(data.text, match=\"Shooting\")[0]\n"
     ]
    },
    {
     "name": "stdout",
     "output_type": "stream",
     "text": [
      "Scraping team: Rayo Vallecano for season 2019\n"
     ]
    },
    {
     "name": "stderr",
     "output_type": "stream",
     "text": [
      "/var/folders/rc/j294rj094lb9j6zz6fcghj7m0000gn/T/ipykernel_92408/2783331479.py:22: FutureWarning: Passing literal html to 'read_html' is deprecated and will be removed in a future version. To read from a literal string, wrap it in a 'StringIO' object.\n",
      "  matches = pd.read_html(data.text, match=\"Scores & Fixtures\")[0]\n",
      "/var/folders/rc/j294rj094lb9j6zz6fcghj7m0000gn/T/ipykernel_92408/2783331479.py:33: FutureWarning: Passing literal html to 'read_html' is deprecated and will be removed in a future version. To read from a literal string, wrap it in a 'StringIO' object.\n",
      "  shooting = pd.read_html(data.text, match=\"Shooting\")[0]\n"
     ]
    }
   ],
   "execution_count": 4
  },
  {
   "metadata": {
    "ExecuteTime": {
     "end_time": "2025-01-09T12:02:10.791607Z",
     "start_time": "2025-01-09T12:02:10.751968Z"
    }
   },
   "cell_type": "code",
   "source": [
    "# Combine all collected data into a single DataFrame\n",
    "match_df = pd.concat(all_matches, ignore_index=True)\n",
    "\n",
    "# %%\n",
    "# Standardize column names\n",
    "match_df.columns = [c.lower() for c in match_df.columns]\n",
    "\n",
    "# %%\n",
    "# Save the full dataset\n",
    "match_df.to_csv(\"la_liga_10_seasons.csv\", index=False)"
   ],
   "id": "8cf38177c937500d",
   "outputs": [],
   "execution_count": 5
  },
  {
   "metadata": {
    "ExecuteTime": {
     "end_time": "2025-01-09T12:02:10.905576Z",
     "start_time": "2025-01-09T12:02:10.899430Z"
    }
   },
   "cell_type": "code",
   "source": [
    "# Optional: Filter for Real Madrid matches\n",
    "real_madrid_matches = match_df[match_df[\"team\"].str.contains(\"Real Madrid\", case=False)]\n",
    "real_madrid_matches.to_csv(\"real_madrid_10_seasons.csv\", index=False)\n",
    "\n",
    "# %%\n",
    "print(\"Data scraping complete. Files saved:\")\n",
    "print(\"- la_liga_10_seasons.csv (all teams)\")\n",
    "print(\"- real_madrid_10_seasons.csv (Real Madrid matches)\")"
   ],
   "id": "3ce9db1fe11ba2f2",
   "outputs": [
    {
     "name": "stdout",
     "output_type": "stream",
     "text": [
      "Data scraping complete. Files saved:\n",
      "- la_liga_10_seasons.csv (all teams)\n",
      "- real_madrid_10_seasons.csv (Real Madrid matches)\n"
     ]
    }
   ],
   "execution_count": 6
  }
 ],
 "metadata": {
  "kernelspec": {
   "display_name": "Python 3",
   "language": "python",
   "name": "python3"
  },
  "language_info": {
   "codemirror_mode": {
    "name": "ipython",
    "version": 2
   },
   "file_extension": ".py",
   "mimetype": "text/x-python",
   "name": "python",
   "nbconvert_exporter": "python",
   "pygments_lexer": "ipython2",
   "version": "2.7.6"
  }
 },
 "nbformat": 4,
 "nbformat_minor": 5
}
